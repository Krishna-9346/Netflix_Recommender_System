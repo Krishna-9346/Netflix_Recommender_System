{
 "cells": [
  {
   "cell_type": "code",
   "execution_count": null,
   "id": "80f0fcc7-bdcc-4f3c-9e57-45eebdc9c882",
   "metadata": {},
   "outputs": [],
   "source": [
    "## Netflix-style Recommendation Engine"
   ]
  },
  {
   "cell_type": "markdown",
   "id": "c3c2732e-6eb1-4f5c-925b-5f4648a65e84",
   "metadata": {},
   "source": [
    "## What is a Recommendation Engine?\n",
    "A Recommendation Engine (or Recommender System) is a machine learning system that suggests items to users based on their interests, behavior, or preferences.\n",
    "\n",
    "Think of it like:\n",
    "A smart assistant that learns what you like and says,\n",
    "“Hey, you might enjoy this movie/book/video!”\n",
    "\n",
    "\n",
    "Types of Recommendation Engines:\n",
    "Type\t                                Example\n",
    "Content-based                     filtering\t“Because you liked Inception”\n",
    "Collaborative                     filtering\t“Users like you also watched...”\n",
    "Hybrid models\t                  Combination of both"
   ]
  },
  {
   "cell_type": "code",
   "execution_count": null,
   "id": "2f07f23e-4653-4f27-b6f2-50873356fc00",
   "metadata": {},
   "outputs": [],
   "source": [
    "##Expalin the types of recommdentation system\n",
    "# 1. Content-Based Filtering\n",
    "Logic: Recommends items similar to what the user liked in the past, based on item features (e.g., genre, cast, keywords).\n",
    "\n",
    "How it works: Uses features like movie genre, description, or tags to find similarity.\n",
    "\n",
    "Example:\n",
    "If you liked a sci-fi movie like Interstellar, it recommends other sci-fi movies.\n",
    "\n",
    "Technique: Uses TF-IDF, cosine similarity, etc.\n",
    "\n",
    "#2. Collaborative Filtering\n",
    "Logic: Recommends items based on what similar users liked (user behavior only, not item features).\n",
    "\n",
    "There are two types:\n",
    "\n",
    "a. User-User Collaborative Filtering\n",
    "Finds users similar to you and recommends what they liked.\n",
    "\n",
    "Example: If User A and B have similar taste, and B liked Inception, then A gets Inception as a recommendation.\n",
    "\n",
    "b. Item-Item Collaborative Filtering\n",
    "Recommends items that are similar based on user interactions.\n",
    "\n",
    "Example: People who liked Titanic also liked The Notebook.\n",
    "\n",
    "Technique: Uses similarity (cosine, Pearson), ratings matrix.\n",
    "\n",
    "#3. Matrix Factorization\n",
    "Logic: Breaks down the user-item matrix to find hidden patterns (latent factors like \"romance\", \"action\", etc.)\n",
    "\n",
    "Example: SVD (Singular Value Decomposition) learns hidden preferences.\n",
    "\n",
    "Library: Surprise, Scikit-learn (TruncatedSVD)\n",
    "\n",
    "Used in: Netflix Prize competition\n",
    "\n",
    "#4. Hybrid Recommendation Systems\n",
    "Logic: Combines two or more methods (e.g., content + collaborative).\n",
    "\n",
    "Example: Netflix uses hybrid methods — recommends based on genre + what similar users liked.\n",
    "\n",
    "Advantage: More accurate, solves cold start and sparsity problems.\n",
    "\n",
    "#5. Knowledge-Based Recommendation\n",
    "Logic: Uses specific rules or constraints set by the user (not learned from data).\n",
    "\n",
    "Example: A travel site recommends hotels based on location, price, and amenities selected by the user.\n",
    "\n"
   ]
  },
  {
   "cell_type": "code",
   "execution_count": null,
   "id": "66f8bf56-c0ed-4763-badd-a9dd5adeeb6c",
   "metadata": {},
   "outputs": [],
   "source": [
    "## Why Companies Use Recommendation Engines\n",
    "🎯 Personalization\n",
    "Users get content or products that match their personal interests.\n",
    "\n",
    "⏳ Saves User Time\n",
    "Reduces the need to manually search for content — faster discovery.\n",
    "\n",
    "📈 Increases Engagement\n",
    "Users spend more time watching, browsing, or shopping.\n",
    "\n",
    "💰 Boosts Revenue\n",
    "More views or purchases mean higher ad revenue or sales.\n",
    "\n",
    "📊 Smart Use of User Data\n",
    "Uses behavior patterns to make intelligent and personalized suggestions."
   ]
  },
  {
   "cell_type": "code",
   "execution_count": null,
   "id": "0a12c5e1-3613-429c-959a-6b4e05d01acc",
   "metadata": {},
   "outputs": [],
   "source": [
    "They Use Recommender Systems For:\n",
    "       Sector\t                                  Recommender Use\n",
    "🎬 Entertainment\t                       Suggest movies, shows, music, or videos\n",
    "🛒 E-Commerce\t                           Recommend products, combos, or deals\n",
    "📱 Social Media\t                           Suggest friends, posts, followers, content\n",
    "🎓 EdTech\t                               Recommend courses or learning paths\n",
    "🍔 Food/Travel\t                           Recommend restaurants, dishes, hotels"
   ]
  },
  {
   "cell_type": "code",
   "execution_count": null,
   "id": "5930c19e-91ae-45d6-8a14-bc026d7d1101",
   "metadata": {},
   "outputs": [],
   "source": [
    "#Import libraries\n",
    "\n",
    "import numpy as np\n",
    "import pandas as pd\n",
    "from datetime import datetime, timedelta  \n",
    "import seaborn as sns\n",
    "import matplotlib.pyplot as plt\n",
    "#Ignore warnings\n",
    "import warnings\n",
    "warnings.filterwarnings(\"ignore\")"
   ]
  },
  {
   "cell_type": "code",
   "execution_count": null,
   "id": "aac49795-6184-474d-89bb-41bcb33d7ce9",
   "metadata": {},
   "outputs": [],
   "source": [
    "#Load the dataset\n",
    "#ratings\n",
    "rating=pd.read_csv('ratings.csv')\n",
    "#movies\n",
    "movie=pd.read_csv('movies.csv')\n",
    "\n",
    "#merge the data\n",
    "df=pd.merge(rating,movie, on='movieId')\n",
    "print(df.head())"
   ]
  },
  {
   "cell_type": "code",
   "execution_count": null,
   "id": "4876a5d3-ae13-4208-bca6-89694f9844f5",
   "metadata": {},
   "outputs": [],
   "source": [
    "# Exploratory Data Analysis(EDA)\n",
    "print(df.isnull().sum())\n",
    "#check infomation \n",
    "print(df.info())\n",
    "#summary of statistics \n",
    "print(df.describe())\n",
    "\n",
    "#Rating Distribution\n",
    "rating_count=rating['rating'].value_counts().sort_index()\n",
    "print(rating_count)\n",
    "\n",
    "#visualaization of rating \n",
    "# Bar plot\n",
    "plt.figure(figsize=(8, 5))\n",
    "sns.barplot(x=rating_count.index, y=rating_count.values, palette='viridis')\n",
    "plt.title('Rating Distribution')\n",
    "plt.xlabel('Rating')\n",
    "plt.ylabel('Number of Ratings')\n",
    "plt.grid(axis='y', linestyle='--', alpha=0.6)\n",
    "plt.tight_layout()\n",
    "plt.show()"
   ]
  },
  {
   "cell_type": "code",
   "execution_count": null,
   "id": "318dd5d8-c63c-46fe-83b7-d902b4c69afa",
   "metadata": {},
   "outputs": [
    {
     "name": "stdout",
     "output_type": "stream",
     "text": [
      "Top 10 rating movies are: title\n",
      "Forrest Gump (1994)                          329\n",
      "Shawshank Redemption, The (1994)             317\n",
      "Pulp Fiction (1994)                          307\n",
      "Silence of the Lambs, The (1991)             279\n",
      "Matrix, The (1999)                           278\n",
      "Star Wars: Episode IV - A New Hope (1977)    251\n",
      "Jurassic Park (1993)                         238\n",
      "Braveheart (1995)                            237\n",
      "Terminator 2: Judgment Day (1991)            224\n",
      "Schindler's List (1993)                      220\n",
      "Name: rating, dtype: int64\n",
      "Top 10 rating movies are: title\n",
      "Forrest Gump (1994)                 329\n",
      "Shawshank Redemption, The (1994)    317\n",
      "Pulp Fiction (1994)                 307\n",
      "Name: rating, dtype: int64\n"
     ]
    }
   ],
   "source": [
    "#Top 10 rated movies\n",
    "top_rating=df.groupby('title')['rating'].count().sort_values(ascending=False)\n",
    "print('Top 10 rating movies are:',top_rating.head(10))\n",
    "\n",
    "#Find which 3 movies got the highest number of ratings.\n",
    "top_ratings=df.groupby('title')['rating'].count().sort_values(ascending=False)\n",
    "print('Top 10 rating movies are:',top_rating.head(3))\n",
    "\n",
    "# Bar plot\n",
    "plt.figure(figsize=(10, 6))\n",
    "sns.barplot(x=top_ratings.values, y=top_ratings.index, palette='coolwarm')\n",
    "plt.title('Top 3 Most Rated Movies', fontsize=14)\n",
    "plt.xlabel('Number of Ratings', fontsize=12)\n",
    "plt.ylabel('Movie Title', fontsize=12)\n",
    "plt.xticks(fontsize=10)\n",
    "plt.yticks(fontsize=10)\n",
    "plt.tight_layout()\n",
    "plt.show()"
   ]
  },
  {
   "cell_type": "code",
   "execution_count": null,
   "id": "dbc2965a-6b7c-43a1-8b74-b12c8c63e514",
   "metadata": {},
   "outputs": [],
   "source": [
    "#Avgerage rating per movie\n",
    "avg_rating=df.groupby('title')['rating'].mean().sort_values(ascending=False)\n",
    "print('Avgerage rating per movie:',avg_rating.head(10))\n",
    "\n",
    "#Find movies with highest average rating (must be rated at least 5 times).\n",
    "# Filter out movies rated less than 5 times\n",
    "movie_counts = df.groupby('title')['rating'].count()\n",
    "popular_movies = movie_counts[movie_counts >= 5].index\n",
    "\n",
    "# Now get average rating of only those popular ones\n",
    "best_rated = df[df['title'].isin(popular_movies)].groupby('title')['rating'].mean().sort_values(ascending=False).head(3)\n",
    "print(best_rated)"
   ]
  },
  {
   "cell_type": "code",
   "execution_count": null,
   "id": "052fcbcb-59c4-4670-9cd4-f2db0bb791a3",
   "metadata": {},
   "outputs": [],
   "source": [
    "#Recommend Top Movies for Any User\n",
    "#Task:\n",
    "#Ask user for their name (like User2),\n",
    "#Show 3 top-rated movies that user hasn’t seen.\n",
    "#Logic: Pick similar movies using average scores, skip already watched.\n",
    "\n",
    "\n",
    "# Ask user for input (e.g., User 2)\n",
    "user_id = int(input(\"Enter userId (e.g., 2): \"))\n",
    "\n",
    "#Write Python Function for Recommendation\n",
    "## Step 1: Get movieIds the user has already rated\n",
    "# Step 2: Get movies the user has NOT rated\n",
    "\n",
    "def get_unseen_movies(user_id):\n",
    "    seen_movies = df[df['userId'] == user_id]['movieId'].unique()\n",
    "    unseen_df = df[~df['movieId'].isin(seen_movies)]\n",
    "    return unseen_df\n",
    "\n",
    "# Step 3: Calculate average rating of unseen movies\n",
    "# Step 4: Recommend top 3 highest-rated unseen movies\n",
    "def recommend_movies(user_id):\n",
    "    unseen_df = get_unseen_movies(user_id)\n",
    "    avg_rating = unseen_df.groupby('title')['rating'].mean()\n",
    "    top3 = avg_rating.sort_values(ascending=False).head(3)\n",
    "    print(f\"\\nTop 3 recommended movies for User {user_id}:\\n\")\n",
    "    print(top3)\n",
    "# Now call the function\n",
    "recommend_movies(user_id)"
   ]
  },
  {
   "cell_type": "code",
   "execution_count": null,
   "id": "947ae23a-3f65-4407-8039-bd6b8bfe8531",
   "metadata": {},
   "outputs": [],
   "source": [
    "#Add Genre Filtering\n",
    "def recommend_by_genre(user_id, genre):\n",
    "    unseen_df = get_unseen_movies(user_id)\n",
    "    #Filter movies by genre\n",
    "    genre_df = unseen_df[unseen_df['genres'].str.contains(genre, case=False, na=False)]\n",
    "    #Group by title and calculate average rating\n",
    "    avg = genre_df.groupby('title')['rating'].mean().sort_values(ascending=False).head(3)\n",
    "    print(f\"\\nTop 3 {genre} Movies for User {user_id}:\\n\")\n",
    "    print(avg)\n",
    "#now call the function\n",
    "recommend_by_genre(user_id,genre)"
   ]
  },
  {
   "cell_type": "code",
   "execution_count": 11,
   "id": "65289a4e-37f6-4349-b954-1c8ee7f7b21d",
   "metadata": {},
   "outputs": [
    {
     "name": "stdout",
     "output_type": "stream",
     "text": [
      "userId\n",
      "1    232\n",
      "2     29\n",
      "3     39\n",
      "4    216\n",
      "5     44\n",
      "Name: rating, dtype: int64\n"
     ]
    },
    {
     "data": {
      "image/png": "[encoded data removed]",
      "text/plain": [
       "<Figure size 1200x600 with 1 Axes>"
      ]
     },
     "metadata": {},
     "output_type": "display_data"
    }
   ],
   "source": [
    "#Show Ratings Per User\n",
    "#Count how many movies each user rated.\n",
    "#Show bar graph of userId vs number of ratings\n",
    "\n",
    "# Step 1: Count number of ratings per user\n",
    "user_rating_count = df.groupby('userId')['rating'].count()\n",
    "\n",
    "# Step 2: Show result\n",
    "print(user_rating_count.head())  # shows first few users\n",
    "\n",
    "# Step 3: Visualize it using bar plot\n",
    "plt.figure(figsize=(12, 6))\n",
    "sns.barplot(x=user_rating_count.index, y=user_rating_count.values, palette='coolwarm')\n",
    "plt.title('Number of Ratings per User', fontsize=14)\n",
    "plt.xlabel('User ID', fontsize=12)\n",
    "plt.ylabel('Number of Ratings', fontsize=12)\n",
    "plt.xticks(rotation=90)  # rotate x-labels for clarity\n",
    "plt.tight_layout()\n",
    "plt.grid(axis='y', linestyle='--', alpha=0.5)\n",
    "plt.show(block=False)"
   ]
  },
  {
   "cell_type": "code",
   "execution_count": null,
   "id": "7e8afbc0-219a-4957-ad0c-8694e280b722",
   "metadata": {},
   "outputs": [],
   "source": [
    "# Build Final Mini Project\n",
    "def run_netflix_recommender():\n",
    "    try:\n",
    "        user_id = int(input(\"Enter your userId: \"))\n",
    "        genre = input(\"Enter your favorite genre (e.g., Comedy, Action): \")\n",
    "\n",
    "        recommend_movies(user_id)\n",
    "        recommend_by_genre(user_id, genre)\n",
    "        \n",
    "        # Show rating distribution again for user experience\n",
    "        plot_rating_distribution()\n",
    "\n",
    "    except Exception as e:\n",
    "        print(\"Error:\", e)\n",
    "\n",
    "#Add plot_rating_distribution() function\n",
    "def plot_rating_distribution():\n",
    "    rating_count = df['rating'].value_counts().sort_index()\n",
    "    plt.figure(figsize=(8, 5))\n",
    "    sns.barplot(x=rating_count.index, y=rating_count.values, palette='viridis')\n",
    "    plt.title('Rating Distribution')\n",
    "    plt.xlabel('Rating')\n",
    "    plt.ylabel('Number of Ratings')\n",
    "    plt.grid(axis='y', linestyle='--', alpha=0.6)\n",
    "    plt.tight_layout()\n",
    "    plt.show(block=False)"
   ]
  },
  {
   "cell_type": "code",
   "execution_count": null,
   "id": "bd5cfe0c-0998-440e-b7f0-8ceb46518864",
   "metadata": {},
   "outputs": [],
   "source": []
  }
 ],
 "metadata": {
  "kernelspec": {
   "display_name": "Python 3 (ipykernel)",
   "language": "python",
   "name": "python3"
  },
  "language_info": {
   "codemirror_mode": {
    "name": "ipython",
    "version": 3
   },
   "file_extension": ".py",
   "mimetype": "text/x-python",
   "name": "python",
   "nbconvert_exporter": "python",
   "pygments_lexer": "ipython3",
   "version": "3.11.7"
  }
 },
 "nbformat": 4,
 "nbformat_minor": 5
}
